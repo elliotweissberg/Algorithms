{
 "cells": [
  {
   "cell_type": "markdown",
   "id": "prospective-stationery",
   "metadata": {},
   "source": [
    "# MRMr explained\n",
    "This notebook seeks to explain and provide an example of the Min-redundancy max-relevance algorithms proposed by Chris Ding and Hanchuan Peng in their paper *Minimum Redundancy Feature Selection from Microarray\n",
    "Gene Expression Data* from 2005. \n",
    "\n",
    "This paper might be over 15 years old, but the ideas are still relevant. Feature selection is as important as ever, as well as being able to answer the question: which features in my dataset are the most important?\n",
    "We live in a golden age of computing power. \n",
    "By selecting an effective subset of features, you:\n",
    "- Reduce training time, as the size of the feature vectors are smaller. \n",
    "- Create more interpretable models. Simpler models are easier to interpret.\n",
    "- Improve accuracy, especially if the original featureset contains features that are no better than noise. \n",
    "- Reduce the risk of overfitting. Simpler models with smaller featuresets are less likely to overfit to the training data.\n",
    "\n",
    "## What is MRMr?\n",
    "MRMr is an algorithm that ranks features based on importance to predicting the target. It is an iterative algorithm, selecting one feature at a time. It calculates a value based on either a difference or quotient basis of the relevance and the redundancy of the feature.\n",
    "- Relevance: how well does the feature correlate to the target? \n",
    "    - For categorical variables, this is based on mutual information. \n",
    "    - For continuous variables it is the F-statistic of that variable.\n",
    "- Redundancy: how well does the feature correlate to features selected in previous iterations? The idea is that if a candidate feature correlates correlates strongly to an already selected feature, then it won't provide much additional information to the feature set.\n",
    "\n",
    "The first feature chosen is the one that is most relevant, with no redundancy constraints: there are no other features to compare and see if the feature is redundant.\n"
   ]
  },
  {
   "cell_type": "markdown",
   "id": "breathing-martin",
   "metadata": {},
   "source": [
    "## Caveats\n",
    "- MRMr only works for classification.\n",
    "- All features must be either entirely categorical or numerical. It is still usable if you have a mix, but some preprocessing might be required, such as binning the numerical values.\n",
    "\n"
   ]
  },
  {
   "cell_type": "markdown",
   "id": "occasional-departure",
   "metadata": {},
   "source": [
    "## Example"
   ]
  },
  {
   "cell_type": "markdown",
   "id": "polished-baker",
   "metadata": {},
   "source": [
    "As an example, I loaded the wine dataset from sklearn. This dataset contains measurements for three different types of wines grown in the same region in Italy. It contains 13 numeric features."
   ]
  },
  {
   "cell_type": "code",
   "execution_count": 81,
   "id": "integral-intermediate",
   "metadata": {},
   "outputs": [],
   "source": [
    "import pandas as pd\n",
    "import numpy as np\n",
    "from sklearn.datasets import load_wine\n",
    "from scipy.stats import f_oneway\n",
    "from numpy import corrcoef\n",
    "import operator\n",
    "from sklearn.ensemble import RandomForestClassifier"
   ]
  },
  {
   "cell_type": "code",
   "execution_count": 48,
   "id": "surgical-basin",
   "metadata": {},
   "outputs": [],
   "source": [
    "data = load_wine(as_frame=True)"
   ]
  },
  {
   "cell_type": "code",
   "execution_count": 63,
   "id": "hybrid-smell",
   "metadata": {},
   "outputs": [],
   "source": [
    "df = pd.concat([data.data, data.target], axis=1)"
   ]
  },
  {
   "cell_type": "code",
   "execution_count": 64,
   "id": "british-dining",
   "metadata": {},
   "outputs": [
    {
     "data": {
      "text/html": [
       "<div>\n",
       "<style scoped>\n",
       "    .dataframe tbody tr th:only-of-type {\n",
       "        vertical-align: middle;\n",
       "    }\n",
       "\n",
       "    .dataframe tbody tr th {\n",
       "        vertical-align: top;\n",
       "    }\n",
       "\n",
       "    .dataframe thead th {\n",
       "        text-align: right;\n",
       "    }\n",
       "</style>\n",
       "<table border=\"1\" class=\"dataframe\">\n",
       "  <thead>\n",
       "    <tr style=\"text-align: right;\">\n",
       "      <th></th>\n",
       "      <th>alcohol</th>\n",
       "      <th>malic_acid</th>\n",
       "      <th>ash</th>\n",
       "      <th>alcalinity_of_ash</th>\n",
       "      <th>magnesium</th>\n",
       "      <th>total_phenols</th>\n",
       "      <th>flavanoids</th>\n",
       "      <th>nonflavanoid_phenols</th>\n",
       "      <th>proanthocyanins</th>\n",
       "      <th>color_intensity</th>\n",
       "      <th>hue</th>\n",
       "      <th>od280/od315_of_diluted_wines</th>\n",
       "      <th>proline</th>\n",
       "      <th>target</th>\n",
       "    </tr>\n",
       "  </thead>\n",
       "  <tbody>\n",
       "    <tr>\n",
       "      <th>0</th>\n",
       "      <td>14.23</td>\n",
       "      <td>1.71</td>\n",
       "      <td>2.43</td>\n",
       "      <td>15.6</td>\n",
       "      <td>127.0</td>\n",
       "      <td>2.80</td>\n",
       "      <td>3.06</td>\n",
       "      <td>0.28</td>\n",
       "      <td>2.29</td>\n",
       "      <td>5.64</td>\n",
       "      <td>1.04</td>\n",
       "      <td>3.92</td>\n",
       "      <td>1065.0</td>\n",
       "      <td>0</td>\n",
       "    </tr>\n",
       "    <tr>\n",
       "      <th>1</th>\n",
       "      <td>13.20</td>\n",
       "      <td>1.78</td>\n",
       "      <td>2.14</td>\n",
       "      <td>11.2</td>\n",
       "      <td>100.0</td>\n",
       "      <td>2.65</td>\n",
       "      <td>2.76</td>\n",
       "      <td>0.26</td>\n",
       "      <td>1.28</td>\n",
       "      <td>4.38</td>\n",
       "      <td>1.05</td>\n",
       "      <td>3.40</td>\n",
       "      <td>1050.0</td>\n",
       "      <td>0</td>\n",
       "    </tr>\n",
       "    <tr>\n",
       "      <th>2</th>\n",
       "      <td>13.16</td>\n",
       "      <td>2.36</td>\n",
       "      <td>2.67</td>\n",
       "      <td>18.6</td>\n",
       "      <td>101.0</td>\n",
       "      <td>2.80</td>\n",
       "      <td>3.24</td>\n",
       "      <td>0.30</td>\n",
       "      <td>2.81</td>\n",
       "      <td>5.68</td>\n",
       "      <td>1.03</td>\n",
       "      <td>3.17</td>\n",
       "      <td>1185.0</td>\n",
       "      <td>0</td>\n",
       "    </tr>\n",
       "    <tr>\n",
       "      <th>3</th>\n",
       "      <td>14.37</td>\n",
       "      <td>1.95</td>\n",
       "      <td>2.50</td>\n",
       "      <td>16.8</td>\n",
       "      <td>113.0</td>\n",
       "      <td>3.85</td>\n",
       "      <td>3.49</td>\n",
       "      <td>0.24</td>\n",
       "      <td>2.18</td>\n",
       "      <td>7.80</td>\n",
       "      <td>0.86</td>\n",
       "      <td>3.45</td>\n",
       "      <td>1480.0</td>\n",
       "      <td>0</td>\n",
       "    </tr>\n",
       "    <tr>\n",
       "      <th>4</th>\n",
       "      <td>13.24</td>\n",
       "      <td>2.59</td>\n",
       "      <td>2.87</td>\n",
       "      <td>21.0</td>\n",
       "      <td>118.0</td>\n",
       "      <td>2.80</td>\n",
       "      <td>2.69</td>\n",
       "      <td>0.39</td>\n",
       "      <td>1.82</td>\n",
       "      <td>4.32</td>\n",
       "      <td>1.04</td>\n",
       "      <td>2.93</td>\n",
       "      <td>735.0</td>\n",
       "      <td>0</td>\n",
       "    </tr>\n",
       "  </tbody>\n",
       "</table>\n",
       "</div>"
      ],
      "text/plain": [
       "   alcohol  malic_acid   ash  alcalinity_of_ash  magnesium  total_phenols  \\\n",
       "0    14.23        1.71  2.43               15.6      127.0           2.80   \n",
       "1    13.20        1.78  2.14               11.2      100.0           2.65   \n",
       "2    13.16        2.36  2.67               18.6      101.0           2.80   \n",
       "3    14.37        1.95  2.50               16.8      113.0           3.85   \n",
       "4    13.24        2.59  2.87               21.0      118.0           2.80   \n",
       "\n",
       "   flavanoids  nonflavanoid_phenols  proanthocyanins  color_intensity   hue  \\\n",
       "0        3.06                  0.28             2.29             5.64  1.04   \n",
       "1        2.76                  0.26             1.28             4.38  1.05   \n",
       "2        3.24                  0.30             2.81             5.68  1.03   \n",
       "3        3.49                  0.24             2.18             7.80  0.86   \n",
       "4        2.69                  0.39             1.82             4.32  1.04   \n",
       "\n",
       "   od280/od315_of_diluted_wines  proline  target  \n",
       "0                          3.92   1065.0       0  \n",
       "1                          3.40   1050.0       0  \n",
       "2                          3.17   1185.0       0  \n",
       "3                          3.45   1480.0       0  \n",
       "4                          2.93    735.0       0  "
      ]
     },
     "execution_count": 64,
     "metadata": {},
     "output_type": "execute_result"
    }
   ],
   "source": [
    "df.head()"
   ]
  },
  {
   "cell_type": "code",
   "execution_count": 136,
   "id": "color-supply",
   "metadata": {},
   "outputs": [],
   "source": [
    "class MRMR:\n",
    "    def __init__(self, df, target_name, difference_or_quotient='difference'):\n",
    "        self.df = df\n",
    "        self.idxs_by_class = [df[df[target_name]==v].index for v in df[target_name].unique()]\n",
    "        self.features = [col for col in df.columns if col!=target_name]\n",
    "        self.ranked_features = []\n",
    "        self.feature_relevance = {feat_name: self.calc_feature_relevance(self.df[feat_name]) for feat_name in self.features}\n",
    "        self.use_difference = difference_or_quotient=='difference'\n",
    "        self.calculated_correlations = {}\n",
    "        \n",
    "    def calc_feature_relevance(self, feature):\n",
    "        groups = [feature[class_idxs].values for class_idxs in self.idxs_by_class]\n",
    "        return f_oneway(*groups).statistic\n",
    "    \n",
    "    def calc_feature_redundance(self, feature):\n",
    "        redundance = 0\n",
    "        for feat in self.ranked_features:\n",
    "            if (feat, feature) not in self.calculated_correlations:\n",
    "                self.calculated_correlations[(feat, feature)] = abs(corrcoef(self.df[feature], self.df[feat])[1,0])\n",
    "                self.calculated_correlations[(feature, feat)] = abs(corrcoef(self.df[feature], self.df[feat])[1,0])\n",
    "            \n",
    "            redundance += self.calculated_correlations[(feat, feature)]\n",
    "        return redundance   \n",
    "    \n",
    "    def rank_features(self):\n",
    "        most_important_feature = max(self.feature_relevance.items(), key=operator.itemgetter(1))[0]\n",
    "        self.ranked_features.append(most_important_feature)\n",
    "        \n",
    "        while len(self.ranked_features) != len(self.features):\n",
    "            top_importance = 0\n",
    "            most_important_feature = None\n",
    "            for feat in self.features:\n",
    "                if feat in self.ranked_features:\n",
    "                    continue\n",
    "                    \n",
    "                feature_redundancy = self.calc_feature_redundance(feat)\n",
    "                feature_relevance = self.feature_relevance[feat]\n",
    "                if self.use_difference:\n",
    "                    importance = feature_relevance - feature_redundancy\n",
    "                else:\n",
    "                    importance = feature_relevance / feature_redundancy\n",
    "                \n",
    "                if importance > top_importance:\n",
    "                    top_importance = importance\n",
    "                    most_important_feature = feat\n",
    "                    \n",
    "            self.ranked_features.append(most_important_feature)\n",
    "            \n",
    "        return self.ranked_features\n",
    "                \n",
    "                "
   ]
  },
  {
   "cell_type": "code",
   "execution_count": 137,
   "id": "satisfied-helen",
   "metadata": {},
   "outputs": [
    {
     "data": {
      "text/plain": [
       "['flavanoids',\n",
       " 'proline',\n",
       " 'od280/od315_of_diluted_wines',\n",
       " 'alcohol',\n",
       " 'color_intensity',\n",
       " 'hue',\n",
       " 'total_phenols',\n",
       " 'malic_acid',\n",
       " 'alcalinity_of_ash',\n",
       " 'proanthocyanins',\n",
       " 'nonflavanoid_phenols',\n",
       " 'ash',\n",
       " 'magnesium']"
      ]
     },
     "execution_count": 137,
     "metadata": {},
     "output_type": "execute_result"
    }
   ],
   "source": [
    "mrmr = MRMR(df, 'target')\n",
    "mrmr.rank_features()"
   ]
  },
  {
   "cell_type": "code",
   "execution_count": 138,
   "id": "protecting-bermuda",
   "metadata": {},
   "outputs": [
    {
     "data": {
      "text/plain": [
       "['flavanoids',\n",
       " 'color_intensity',\n",
       " 'proline',\n",
       " 'od280/od315_of_diluted_wines',\n",
       " 'alcohol',\n",
       " 'hue',\n",
       " 'total_phenols',\n",
       " 'alcalinity_of_ash',\n",
       " 'malic_acid',\n",
       " 'proanthocyanins',\n",
       " 'nonflavanoid_phenols',\n",
       " 'ash',\n",
       " 'magnesium']"
      ]
     },
     "execution_count": 138,
     "metadata": {},
     "output_type": "execute_result"
    }
   ],
   "source": [
    "mrmr = MRMR(df, 'target', difference_or_quotient='quotient')\n",
    "mrmr.rank_features()"
   ]
  },
  {
   "cell_type": "code",
   "execution_count": 139,
   "id": "possible-boost",
   "metadata": {},
   "outputs": [
    {
     "data": {
      "text/plain": [
       "proline                         0.167721\n",
       "color_intensity                 0.167566\n",
       "flavanoids                      0.154224\n",
       "od280/od315_of_diluted_wines    0.117799\n",
       "alcohol                         0.116276\n",
       "hue                             0.082281\n",
       "total_phenols                   0.055714\n",
       "magnesium                       0.033280\n",
       "malic_acid                      0.031723\n",
       "alcalinity_of_ash               0.028569\n",
       "proanthocyanins                 0.021047\n",
       "ash                             0.013025\n",
       "nonflavanoid_phenols            0.010776\n",
       "dtype: float64"
      ]
     },
     "execution_count": 139,
     "metadata": {},
     "output_type": "execute_result"
    }
   ],
   "source": [
    "from sklearn.ensemble import RandomForestClassifier\n",
    "model = RandomForestClassifier(n_estimators=1000)\n",
    "model.fit(df[mrmr.features], df['target'])\n",
    "pd.Series(model.feature_importances_, index=mrmr.features).sort_values(ascending=False)"
   ]
  },
  {
   "cell_type": "code",
   "execution_count": null,
   "id": "senior-filename",
   "metadata": {},
   "outputs": [],
   "source": []
  }
 ],
 "metadata": {
  "kernelspec": {
   "display_name": "Python 3",
   "language": "python",
   "name": "python3"
  },
  "language_info": {
   "codemirror_mode": {
    "name": "ipython",
    "version": 3
   },
   "file_extension": ".py",
   "mimetype": "text/x-python",
   "name": "python",
   "nbconvert_exporter": "python",
   "pygments_lexer": "ipython3",
   "version": "3.7.9"
  }
 },
 "nbformat": 4,
 "nbformat_minor": 5
}
